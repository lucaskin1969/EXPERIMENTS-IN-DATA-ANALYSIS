{
 "cells": [
  {
   "cell_type": "markdown",
   "metadata": {},
   "source": [
    "# Linear Transformation exercise"
   ]
  },
  {
   "cell_type": "markdown",
   "metadata": {},
   "source": [
    "- This notebook apply a Linear Transformation **(via 2x2 matrix)** to a 2 variable cross/plot\n",
    "        - It allow us to compare the scatter plot before and after the transformation"
   ]
  },
  {
   "cell_type": "markdown",
   "metadata": {},
   "source": [
    "**Fava Luca**, fava_luca@libero.it"
   ]
  },
  {
   "cell_type": "markdown",
   "metadata": {},
   "source": [
    "**This workflow is broken up to the primary steps of:**\n",
    "\n",
    "    1 import and display the primary data\n",
    "\n",
    "    2 normalize the values of the 2 input variables\n",
    "\n",
    "    3 define the 2x2 matrix for the Linear transformation\n",
    "\n",
    "    4 create the 2 TRANSformed variables and plot them\n",
    "\n",
    "*This allows us to be able to watch the method in action, as opposed to just getting a result. I think this is more instructive.*"
   ]
  },
  {
   "cell_type": "markdown",
   "metadata": {},
   "source": [
    "*Import libraries*"
   ]
  },
  {
   "cell_type": "code",
   "execution_count": 118,
   "metadata": {},
   "outputs": [],
   "source": [
    "import numpy as np                        # ndarrys for gridded data\n",
    "import pandas as pd                       # DataFrames for tabular data\n",
    "import os                                 # set working directory, run executables\n",
    "import matplotlib.pyplot as plt           # for plotting"
   ]
  },
  {
   "cell_type": "markdown",
   "metadata": {},
   "source": [
    "*Set the working directory*"
   ]
  },
  {
   "cell_type": "code",
   "execution_count": 119,
   "metadata": {},
   "outputs": [],
   "source": [
    "os.chdir(\"C:/Users/fava_/OneDrive/LUCA_Documents/IT/PYTHON/PyExercises\")    # set the working directory"
   ]
  },
  {
   "cell_type": "markdown",
   "metadata": {},
   "source": [
    "**1)** *Import the data from .csv file and chech it*"
   ]
  },
  {
   "cell_type": "code",
   "execution_count": 120,
   "metadata": {},
   "outputs": [
    {
     "data": {
      "text/html": [
       "<div>\n",
       "<style scoped>\n",
       "    .dataframe tbody tr th:only-of-type {\n",
       "        vertical-align: middle;\n",
       "    }\n",
       "\n",
       "    .dataframe tbody tr th {\n",
       "        vertical-align: top;\n",
       "    }\n",
       "\n",
       "    .dataframe thead th {\n",
       "        text-align: right;\n",
       "    }\n",
       "</style>\n",
       "<table border=\"1\" class=\"dataframe\">\n",
       "  <thead>\n",
       "    <tr style=\"text-align: right;\">\n",
       "      <th></th>\n",
       "      <th>AI</th>\n",
       "      <th>PHIE_CPI_up</th>\n",
       "    </tr>\n",
       "  </thead>\n",
       "  <tbody>\n",
       "    <tr>\n",
       "      <th>0</th>\n",
       "      <td>224224.5781</td>\n",
       "      <td>0.119424</td>\n",
       "    </tr>\n",
       "    <tr>\n",
       "      <th>1</th>\n",
       "      <td>224224.5781</td>\n",
       "      <td>0.119424</td>\n",
       "    </tr>\n",
       "    <tr>\n",
       "      <th>2</th>\n",
       "      <td>224224.5781</td>\n",
       "      <td>0.119424</td>\n",
       "    </tr>\n",
       "    <tr>\n",
       "      <th>3</th>\n",
       "      <td>224224.5781</td>\n",
       "      <td>0.119424</td>\n",
       "    </tr>\n",
       "    <tr>\n",
       "      <th>4</th>\n",
       "      <td>224224.5781</td>\n",
       "      <td>0.119424</td>\n",
       "    </tr>\n",
       "  </tbody>\n",
       "</table>\n",
       "</div>"
      ],
      "text/plain": [
       "            AI  PHIE_CPI_up\n",
       "0  224224.5781     0.119424\n",
       "1  224224.5781     0.119424\n",
       "2  224224.5781     0.119424\n",
       "3  224224.5781     0.119424\n",
       "4  224224.5781     0.119424"
      ]
     },
     "execution_count": 120,
     "metadata": {},
     "output_type": "execute_result"
    }
   ],
   "source": [
    "# open, read the .csv file and create a dataframe\n",
    "\n",
    "df = pd.read_csv('AI_vs_PHIE_test_for_Linear_transformation.csv')    # load our data table\n",
    "df.head()"
   ]
  },
  {
   "cell_type": "markdown",
   "metadata": {},
   "source": [
    "*Simplify the name of Porosity column*"
   ]
  },
  {
   "cell_type": "code",
   "execution_count": 121,
   "metadata": {},
   "outputs": [
    {
     "data": {
      "text/html": [
       "<div>\n",
       "<style scoped>\n",
       "    .dataframe tbody tr th:only-of-type {\n",
       "        vertical-align: middle;\n",
       "    }\n",
       "\n",
       "    .dataframe tbody tr th {\n",
       "        vertical-align: top;\n",
       "    }\n",
       "\n",
       "    .dataframe thead th {\n",
       "        text-align: right;\n",
       "    }\n",
       "</style>\n",
       "<table border=\"1\" class=\"dataframe\">\n",
       "  <thead>\n",
       "    <tr style=\"text-align: right;\">\n",
       "      <th></th>\n",
       "      <th>AI</th>\n",
       "      <th>Porosity</th>\n",
       "    </tr>\n",
       "  </thead>\n",
       "  <tbody>\n",
       "    <tr>\n",
       "      <th>0</th>\n",
       "      <td>224224.5781</td>\n",
       "      <td>0.119424</td>\n",
       "    </tr>\n",
       "    <tr>\n",
       "      <th>1</th>\n",
       "      <td>224224.5781</td>\n",
       "      <td>0.119424</td>\n",
       "    </tr>\n",
       "    <tr>\n",
       "      <th>2</th>\n",
       "      <td>224224.5781</td>\n",
       "      <td>0.119424</td>\n",
       "    </tr>\n",
       "    <tr>\n",
       "      <th>3</th>\n",
       "      <td>224224.5781</td>\n",
       "      <td>0.119424</td>\n",
       "    </tr>\n",
       "    <tr>\n",
       "      <th>4</th>\n",
       "      <td>224224.5781</td>\n",
       "      <td>0.119424</td>\n",
       "    </tr>\n",
       "  </tbody>\n",
       "</table>\n",
       "</div>"
      ],
      "text/plain": [
       "            AI  Porosity\n",
       "0  224224.5781  0.119424\n",
       "1  224224.5781  0.119424\n",
       "2  224224.5781  0.119424\n",
       "3  224224.5781  0.119424\n",
       "4  224224.5781  0.119424"
      ]
     },
     "execution_count": 121,
     "metadata": {},
     "output_type": "execute_result"
    }
   ],
   "source": [
    "df = df.rename(columns={'PHIE_CPI_up': 'Porosity'})                     \n",
    "df.head()"
   ]
  },
  {
   "cell_type": "markdown",
   "metadata": {},
   "source": [
    "**2)** *Normalize the Values*"
   ]
  },
  {
   "cell_type": "code",
   "execution_count": 122,
   "metadata": {},
   "outputs": [],
   "source": [
    "pormin = df['Porosity'].min(); pormax = df['Porosity'].max()\n",
    "AImin = df['AI'].min(); AImax = df['AI'].max()\n",
    "\n",
    "df['Norm_AI'] = (df['AI']-AImin)/(AImax - AImin)\n",
    "df['Norm_Porosity'] = (df['Porosity']-pormin)/(pormax - pormin)"
   ]
  },
  {
   "cell_type": "markdown",
   "metadata": {},
   "source": [
    "*Let's check the result*"
   ]
  },
  {
   "cell_type": "code",
   "execution_count": 123,
   "metadata": {},
   "outputs": [
    {
     "data": {
      "text/html": [
       "<div>\n",
       "<style scoped>\n",
       "    .dataframe tbody tr th:only-of-type {\n",
       "        vertical-align: middle;\n",
       "    }\n",
       "\n",
       "    .dataframe tbody tr th {\n",
       "        vertical-align: top;\n",
       "    }\n",
       "\n",
       "    .dataframe thead th {\n",
       "        text-align: right;\n",
       "    }\n",
       "</style>\n",
       "<table border=\"1\" class=\"dataframe\">\n",
       "  <thead>\n",
       "    <tr style=\"text-align: right;\">\n",
       "      <th></th>\n",
       "      <th>AI</th>\n",
       "      <th>Porosity</th>\n",
       "      <th>Norm_AI</th>\n",
       "      <th>Norm_Porosity</th>\n",
       "    </tr>\n",
       "  </thead>\n",
       "  <tbody>\n",
       "    <tr>\n",
       "      <th>0</th>\n",
       "      <td>224224.5781</td>\n",
       "      <td>0.119424</td>\n",
       "      <td>0.562332</td>\n",
       "      <td>0.380525</td>\n",
       "    </tr>\n",
       "    <tr>\n",
       "      <th>1</th>\n",
       "      <td>224224.5781</td>\n",
       "      <td>0.119424</td>\n",
       "      <td>0.562332</td>\n",
       "      <td>0.380525</td>\n",
       "    </tr>\n",
       "    <tr>\n",
       "      <th>2</th>\n",
       "      <td>224224.5781</td>\n",
       "      <td>0.119424</td>\n",
       "      <td>0.562332</td>\n",
       "      <td>0.380525</td>\n",
       "    </tr>\n",
       "    <tr>\n",
       "      <th>3</th>\n",
       "      <td>224224.5781</td>\n",
       "      <td>0.119424</td>\n",
       "      <td>0.562332</td>\n",
       "      <td>0.380525</td>\n",
       "    </tr>\n",
       "    <tr>\n",
       "      <th>4</th>\n",
       "      <td>224224.5781</td>\n",
       "      <td>0.119424</td>\n",
       "      <td>0.562332</td>\n",
       "      <td>0.380525</td>\n",
       "    </tr>\n",
       "    <tr>\n",
       "      <th>5</th>\n",
       "      <td>224224.5781</td>\n",
       "      <td>0.119424</td>\n",
       "      <td>0.562332</td>\n",
       "      <td>0.380525</td>\n",
       "    </tr>\n",
       "    <tr>\n",
       "      <th>6</th>\n",
       "      <td>224224.5781</td>\n",
       "      <td>0.119424</td>\n",
       "      <td>0.562332</td>\n",
       "      <td>0.380525</td>\n",
       "    </tr>\n",
       "    <tr>\n",
       "      <th>7</th>\n",
       "      <td>224224.5781</td>\n",
       "      <td>0.119424</td>\n",
       "      <td>0.562332</td>\n",
       "      <td>0.380525</td>\n",
       "    </tr>\n",
       "    <tr>\n",
       "      <th>8</th>\n",
       "      <td>224224.5781</td>\n",
       "      <td>0.119424</td>\n",
       "      <td>0.562332</td>\n",
       "      <td>0.380525</td>\n",
       "    </tr>\n",
       "    <tr>\n",
       "      <th>9</th>\n",
       "      <td>224224.5781</td>\n",
       "      <td>0.119424</td>\n",
       "      <td>0.562332</td>\n",
       "      <td>0.380525</td>\n",
       "    </tr>\n",
       "  </tbody>\n",
       "</table>\n",
       "</div>"
      ],
      "text/plain": [
       "            AI  Porosity   Norm_AI  Norm_Porosity\n",
       "0  224224.5781  0.119424  0.562332       0.380525\n",
       "1  224224.5781  0.119424  0.562332       0.380525\n",
       "2  224224.5781  0.119424  0.562332       0.380525\n",
       "3  224224.5781  0.119424  0.562332       0.380525\n",
       "4  224224.5781  0.119424  0.562332       0.380525\n",
       "5  224224.5781  0.119424  0.562332       0.380525\n",
       "6  224224.5781  0.119424  0.562332       0.380525\n",
       "7  224224.5781  0.119424  0.562332       0.380525\n",
       "8  224224.5781  0.119424  0.562332       0.380525\n",
       "9  224224.5781  0.119424  0.562332       0.380525"
      ]
     },
     "execution_count": 123,
     "metadata": {},
     "output_type": "execute_result"
    }
   ],
   "source": [
    "df.head(10)"
   ]
  },
  {
   "cell_type": "code",
   "execution_count": 124,
   "metadata": {},
   "outputs": [
    {
     "data": {
      "text/html": [
       "<div>\n",
       "<style scoped>\n",
       "    .dataframe tbody tr th:only-of-type {\n",
       "        vertical-align: middle;\n",
       "    }\n",
       "\n",
       "    .dataframe tbody tr th {\n",
       "        vertical-align: top;\n",
       "    }\n",
       "\n",
       "    .dataframe thead th {\n",
       "        text-align: right;\n",
       "    }\n",
       "</style>\n",
       "<table border=\"1\" class=\"dataframe\">\n",
       "  <thead>\n",
       "    <tr style=\"text-align: right;\">\n",
       "      <th></th>\n",
       "      <th>count</th>\n",
       "      <th>mean</th>\n",
       "      <th>std</th>\n",
       "      <th>min</th>\n",
       "      <th>25%</th>\n",
       "      <th>50%</th>\n",
       "      <th>75%</th>\n",
       "      <th>max</th>\n",
       "    </tr>\n",
       "  </thead>\n",
       "  <tbody>\n",
       "    <tr>\n",
       "      <th>AI</th>\n",
       "      <td>105036.0</td>\n",
       "      <td>213112.519775</td>\n",
       "      <td>20315.719270</td>\n",
       "      <td>140015.2969</td>\n",
       "      <td>197345.609400</td>\n",
       "      <td>211482.328100</td>\n",
       "      <td>228658.625000</td>\n",
       "      <td>289765.343800</td>\n",
       "    </tr>\n",
       "    <tr>\n",
       "      <th>Porosity</th>\n",
       "      <td>105036.0</td>\n",
       "      <td>0.096740</td>\n",
       "      <td>0.065429</td>\n",
       "      <td>0.0001</td>\n",
       "      <td>0.045524</td>\n",
       "      <td>0.098869</td>\n",
       "      <td>0.135015</td>\n",
       "      <td>0.313676</td>\n",
       "    </tr>\n",
       "    <tr>\n",
       "      <th>Norm_AI</th>\n",
       "      <td>105036.0</td>\n",
       "      <td>0.488128</td>\n",
       "      <td>0.135664</td>\n",
       "      <td>0.0000</td>\n",
       "      <td>0.382840</td>\n",
       "      <td>0.477242</td>\n",
       "      <td>0.591942</td>\n",
       "      <td>1.000000</td>\n",
       "    </tr>\n",
       "    <tr>\n",
       "      <th>Norm_Porosity</th>\n",
       "      <td>105036.0</td>\n",
       "      <td>0.308188</td>\n",
       "      <td>0.208656</td>\n",
       "      <td>0.0000</td>\n",
       "      <td>0.144857</td>\n",
       "      <td>0.314976</td>\n",
       "      <td>0.430248</td>\n",
       "      <td>1.000000</td>\n",
       "    </tr>\n",
       "  </tbody>\n",
       "</table>\n",
       "</div>"
      ],
      "text/plain": [
       "                  count           mean           std          min  \\\n",
       "AI             105036.0  213112.519775  20315.719270  140015.2969   \n",
       "Porosity       105036.0       0.096740      0.065429       0.0001   \n",
       "Norm_AI        105036.0       0.488128      0.135664       0.0000   \n",
       "Norm_Porosity  105036.0       0.308188      0.208656       0.0000   \n",
       "\n",
       "                         25%            50%            75%            max  \n",
       "AI             197345.609400  211482.328100  228658.625000  289765.343800  \n",
       "Porosity            0.045524       0.098869       0.135015       0.313676  \n",
       "Norm_AI             0.382840       0.477242       0.591942       1.000000  \n",
       "Norm_Porosity       0.144857       0.314976       0.430248       1.000000  "
      ]
     },
     "execution_count": 124,
     "metadata": {},
     "output_type": "execute_result"
    }
   ],
   "source": [
    "df.describe().transpose()"
   ]
  },
  {
   "cell_type": "markdown",
   "metadata": {},
   "source": [
    "### PLOT"
   ]
  },
  {
   "cell_type": "code",
   "execution_count": 125,
   "metadata": {},
   "outputs": [
    {
     "data": {
      "image/png": "[encoded data removed]",
      "text/plain": [
       "<Figure size 432x288 with 2 Axes>"
      ]
     },
     "metadata": {
      "needs_background": "light"
     },
     "output_type": "display_data"
    }
   ],
   "source": [
    "plt.subplot(121)\n",
    "plt.scatter(df['Porosity'], df['AI'], c=\"black\", alpha = 0.4, linewidths=1.0, verts=None, edgecolors=\"black\")\n",
    "plt.title('Acoustic Impedence vs. Porosity'); plt.xlabel('Porosity (fraction)'); plt.ylabel('Acoustic impedance (kg/m^3 x m/s x 10^3)')\n",
    "plt.xlim(0, 0.5)\n",
    "plt.ylim(140000, 300000)\n",
    "\n",
    "plt.subplot(122)\n",
    "plt.scatter(df['Norm_Porosity'], df['Norm_AI'], c=\"black\", alpha = 0.4, linewidths=1.0, verts=None, edgecolors=\"black\")\n",
    "plt.title('Normalized Acoustic Impedence vs. Porosity'); plt.xlabel('Porosity (normalized)'); plt.ylabel('Acoustic impedance (normalized)')\n",
    "plt.xlim(0.0,1.0)\n",
    "plt.ylim(0.0,1.0)\n",
    "plt.subplots_adjust(left=0.0, bottom=0.0, right=2.0, top=1.0, wspace=0.2, hspace=0.2)"
   ]
  },
  {
   "cell_type": "markdown",
   "metadata": {},
   "source": [
    "**3)** *Define the 2x2 matrix*"
   ]
  },
  {
   "cell_type": "markdown",
   "metadata": {},
   "source": [
    "In this case we decided to have a \"shear\" transformation, obtained by using a 2x2 matrix as follows:\n",
    "\n",
    "**{(1,0),(1,1)}**"
   ]
  },
  {
   "cell_type": "markdown",
   "metadata": {},
   "source": [
    "### See the Theory in this video:"
   ]
  },
  {
   "cell_type": "markdown",
   "metadata": {},
   "source": [
    "**3Blue1Brown** Youtube channel\n",
    "**Series** *Essence of linear Algebra*\n",
    "CHAPTER 3 - https://www.youtube.com/watch?v=kYB8IZa5AuE&list=PLZHQObOWTQDPD3MizzM2xVFitgF8hE_ab&index=3"
   ]
  },
  {
   "cell_type": "code",
   "execution_count": 126,
   "metadata": {},
   "outputs": [
    {
     "data": {
      "text/plain": [
       "matrix([[1, 0],\n",
       "        [1, 1]])"
      ]
     },
     "execution_count": 126,
     "metadata": {},
     "output_type": "execute_result"
    }
   ],
   "source": [
    "matrix=np.matrix([[1,0],[1,1]])\n",
    "matrix"
   ]
  },
  {
   "cell_type": "code",
   "execution_count": 127,
   "metadata": {},
   "outputs": [
    {
     "name": "stdout",
     "output_type": "stream",
     "text": [
      "(105036, 4)\n"
     ]
    }
   ],
   "source": [
    "print(df.shape)"
   ]
  },
  {
   "cell_type": "markdown",
   "metadata": {},
   "source": [
    "#### LINEAR TRANSFORMATION"
   ]
  },
  {
   "cell_type": "markdown",
   "metadata": {},
   "source": [
    "Create 2 new columns with o values to accomodate the results of the transformation"
   ]
  },
  {
   "cell_type": "code",
   "execution_count": 128,
   "metadata": {},
   "outputs": [
    {
     "data": {
      "text/html": [
       "<div>\n",
       "<style scoped>\n",
       "    .dataframe tbody tr th:only-of-type {\n",
       "        vertical-align: middle;\n",
       "    }\n",
       "\n",
       "    .dataframe tbody tr th {\n",
       "        vertical-align: top;\n",
       "    }\n",
       "\n",
       "    .dataframe thead th {\n",
       "        text-align: right;\n",
       "    }\n",
       "</style>\n",
       "<table border=\"1\" class=\"dataframe\">\n",
       "  <thead>\n",
       "    <tr style=\"text-align: right;\">\n",
       "      <th></th>\n",
       "      <th>AI</th>\n",
       "      <th>Porosity</th>\n",
       "      <th>Norm_AI</th>\n",
       "      <th>Norm_Porosity</th>\n",
       "      <th>Trans_PHIE</th>\n",
       "      <th>Trans_AI</th>\n",
       "    </tr>\n",
       "  </thead>\n",
       "  <tbody>\n",
       "    <tr>\n",
       "      <th>0</th>\n",
       "      <td>224224.5781</td>\n",
       "      <td>0.119424</td>\n",
       "      <td>0.562332</td>\n",
       "      <td>0.380525</td>\n",
       "      <td>0.0</td>\n",
       "      <td>0.0</td>\n",
       "    </tr>\n",
       "    <tr>\n",
       "      <th>1</th>\n",
       "      <td>224224.5781</td>\n",
       "      <td>0.119424</td>\n",
       "      <td>0.562332</td>\n",
       "      <td>0.380525</td>\n",
       "      <td>0.0</td>\n",
       "      <td>0.0</td>\n",
       "    </tr>\n",
       "    <tr>\n",
       "      <th>2</th>\n",
       "      <td>224224.5781</td>\n",
       "      <td>0.119424</td>\n",
       "      <td>0.562332</td>\n",
       "      <td>0.380525</td>\n",
       "      <td>0.0</td>\n",
       "      <td>0.0</td>\n",
       "    </tr>\n",
       "    <tr>\n",
       "      <th>3</th>\n",
       "      <td>224224.5781</td>\n",
       "      <td>0.119424</td>\n",
       "      <td>0.562332</td>\n",
       "      <td>0.380525</td>\n",
       "      <td>0.0</td>\n",
       "      <td>0.0</td>\n",
       "    </tr>\n",
       "    <tr>\n",
       "      <th>4</th>\n",
       "      <td>224224.5781</td>\n",
       "      <td>0.119424</td>\n",
       "      <td>0.562332</td>\n",
       "      <td>0.380525</td>\n",
       "      <td>0.0</td>\n",
       "      <td>0.0</td>\n",
       "    </tr>\n",
       "    <tr>\n",
       "      <th>5</th>\n",
       "      <td>224224.5781</td>\n",
       "      <td>0.119424</td>\n",
       "      <td>0.562332</td>\n",
       "      <td>0.380525</td>\n",
       "      <td>0.0</td>\n",
       "      <td>0.0</td>\n",
       "    </tr>\n",
       "    <tr>\n",
       "      <th>6</th>\n",
       "      <td>224224.5781</td>\n",
       "      <td>0.119424</td>\n",
       "      <td>0.562332</td>\n",
       "      <td>0.380525</td>\n",
       "      <td>0.0</td>\n",
       "      <td>0.0</td>\n",
       "    </tr>\n",
       "    <tr>\n",
       "      <th>7</th>\n",
       "      <td>224224.5781</td>\n",
       "      <td>0.119424</td>\n",
       "      <td>0.562332</td>\n",
       "      <td>0.380525</td>\n",
       "      <td>0.0</td>\n",
       "      <td>0.0</td>\n",
       "    </tr>\n",
       "    <tr>\n",
       "      <th>8</th>\n",
       "      <td>224224.5781</td>\n",
       "      <td>0.119424</td>\n",
       "      <td>0.562332</td>\n",
       "      <td>0.380525</td>\n",
       "      <td>0.0</td>\n",
       "      <td>0.0</td>\n",
       "    </tr>\n",
       "    <tr>\n",
       "      <th>9</th>\n",
       "      <td>224224.5781</td>\n",
       "      <td>0.119424</td>\n",
       "      <td>0.562332</td>\n",
       "      <td>0.380525</td>\n",
       "      <td>0.0</td>\n",
       "      <td>0.0</td>\n",
       "    </tr>\n",
       "  </tbody>\n",
       "</table>\n",
       "</div>"
      ],
      "text/plain": [
       "            AI  Porosity   Norm_AI  Norm_Porosity  Trans_PHIE  Trans_AI\n",
       "0  224224.5781  0.119424  0.562332       0.380525         0.0       0.0\n",
       "1  224224.5781  0.119424  0.562332       0.380525         0.0       0.0\n",
       "2  224224.5781  0.119424  0.562332       0.380525         0.0       0.0\n",
       "3  224224.5781  0.119424  0.562332       0.380525         0.0       0.0\n",
       "4  224224.5781  0.119424  0.562332       0.380525         0.0       0.0\n",
       "5  224224.5781  0.119424  0.562332       0.380525         0.0       0.0\n",
       "6  224224.5781  0.119424  0.562332       0.380525         0.0       0.0\n",
       "7  224224.5781  0.119424  0.562332       0.380525         0.0       0.0\n",
       "8  224224.5781  0.119424  0.562332       0.380525         0.0       0.0\n",
       "9  224224.5781  0.119424  0.562332       0.380525         0.0       0.0"
      ]
     },
     "execution_count": 128,
     "metadata": {},
     "output_type": "execute_result"
    }
   ],
   "source": [
    "zeros = np.zeros(105036)                  # make a ARRAY of zeros, we need NUMPY for that\n",
    "df[\"Trans_PHIE\"] = pd.Series(zeros)\n",
    "df[\"Trans_AI\"] = pd.Series(zeros)\n",
    "df.head(10)"
   ]
  },
  {
   "cell_type": "code",
   "execution_count": 129,
   "metadata": {},
   "outputs": [],
   "source": [
    "for i in range (0, 105036):\n",
    "    df.loc[i,'Trans_PHIE']=matrix[0,0]*df.loc[i,'Norm_Porosity']+matrix[0,1]*df.loc[i,'Norm_AI']\n",
    "    df.loc[i,'Trans_AI']=matrix[1,0]*df.loc[i,'Norm_Porosity']+matrix[1,1]*df.loc[i,'Norm_AI']"
   ]
  },
  {
   "cell_type": "code",
   "execution_count": 130,
   "metadata": {},
   "outputs": [
    {
     "data": {
      "text/html": [
       "<div>\n",
       "<style scoped>\n",
       "    .dataframe tbody tr th:only-of-type {\n",
       "        vertical-align: middle;\n",
       "    }\n",
       "\n",
       "    .dataframe tbody tr th {\n",
       "        vertical-align: top;\n",
       "    }\n",
       "\n",
       "    .dataframe thead th {\n",
       "        text-align: right;\n",
       "    }\n",
       "</style>\n",
       "<table border=\"1\" class=\"dataframe\">\n",
       "  <thead>\n",
       "    <tr style=\"text-align: right;\">\n",
       "      <th></th>\n",
       "      <th>AI</th>\n",
       "      <th>Porosity</th>\n",
       "      <th>Norm_AI</th>\n",
       "      <th>Norm_Porosity</th>\n",
       "      <th>Trans_PHIE</th>\n",
       "      <th>Trans_AI</th>\n",
       "    </tr>\n",
       "  </thead>\n",
       "  <tbody>\n",
       "    <tr>\n",
       "      <th>0</th>\n",
       "      <td>224224.5781</td>\n",
       "      <td>0.119424</td>\n",
       "      <td>0.562332</td>\n",
       "      <td>0.380525</td>\n",
       "      <td>0.380525</td>\n",
       "      <td>0.942858</td>\n",
       "    </tr>\n",
       "    <tr>\n",
       "      <th>1</th>\n",
       "      <td>224224.5781</td>\n",
       "      <td>0.119424</td>\n",
       "      <td>0.562332</td>\n",
       "      <td>0.380525</td>\n",
       "      <td>0.380525</td>\n",
       "      <td>0.942858</td>\n",
       "    </tr>\n",
       "    <tr>\n",
       "      <th>2</th>\n",
       "      <td>224224.5781</td>\n",
       "      <td>0.119424</td>\n",
       "      <td>0.562332</td>\n",
       "      <td>0.380525</td>\n",
       "      <td>0.380525</td>\n",
       "      <td>0.942858</td>\n",
       "    </tr>\n",
       "    <tr>\n",
       "      <th>3</th>\n",
       "      <td>224224.5781</td>\n",
       "      <td>0.119424</td>\n",
       "      <td>0.562332</td>\n",
       "      <td>0.380525</td>\n",
       "      <td>0.380525</td>\n",
       "      <td>0.942858</td>\n",
       "    </tr>\n",
       "    <tr>\n",
       "      <th>4</th>\n",
       "      <td>224224.5781</td>\n",
       "      <td>0.119424</td>\n",
       "      <td>0.562332</td>\n",
       "      <td>0.380525</td>\n",
       "      <td>0.380525</td>\n",
       "      <td>0.942858</td>\n",
       "    </tr>\n",
       "  </tbody>\n",
       "</table>\n",
       "</div>"
      ],
      "text/plain": [
       "            AI  Porosity   Norm_AI  Norm_Porosity  Trans_PHIE  Trans_AI\n",
       "0  224224.5781  0.119424  0.562332       0.380525    0.380525  0.942858\n",
       "1  224224.5781  0.119424  0.562332       0.380525    0.380525  0.942858\n",
       "2  224224.5781  0.119424  0.562332       0.380525    0.380525  0.942858\n",
       "3  224224.5781  0.119424  0.562332       0.380525    0.380525  0.942858\n",
       "4  224224.5781  0.119424  0.562332       0.380525    0.380525  0.942858"
      ]
     },
     "execution_count": 130,
     "metadata": {},
     "output_type": "execute_result"
    }
   ],
   "source": [
    "df.head()"
   ]
  },
  {
   "cell_type": "code",
   "execution_count": 131,
   "metadata": {},
   "outputs": [
    {
     "data": {
      "text/html": [
       "<div>\n",
       "<style scoped>\n",
       "    .dataframe tbody tr th:only-of-type {\n",
       "        vertical-align: middle;\n",
       "    }\n",
       "\n",
       "    .dataframe tbody tr th {\n",
       "        vertical-align: top;\n",
       "    }\n",
       "\n",
       "    .dataframe thead th {\n",
       "        text-align: right;\n",
       "    }\n",
       "</style>\n",
       "<table border=\"1\" class=\"dataframe\">\n",
       "  <thead>\n",
       "    <tr style=\"text-align: right;\">\n",
       "      <th></th>\n",
       "      <th>count</th>\n",
       "      <th>mean</th>\n",
       "      <th>std</th>\n",
       "      <th>min</th>\n",
       "      <th>25%</th>\n",
       "      <th>50%</th>\n",
       "      <th>75%</th>\n",
       "      <th>max</th>\n",
       "    </tr>\n",
       "  </thead>\n",
       "  <tbody>\n",
       "    <tr>\n",
       "      <th>AI</th>\n",
       "      <td>105036.0</td>\n",
       "      <td>213112.519775</td>\n",
       "      <td>20315.719270</td>\n",
       "      <td>140015.2969</td>\n",
       "      <td>197345.609400</td>\n",
       "      <td>211482.328100</td>\n",
       "      <td>228658.625000</td>\n",
       "      <td>289765.343800</td>\n",
       "    </tr>\n",
       "    <tr>\n",
       "      <th>Porosity</th>\n",
       "      <td>105036.0</td>\n",
       "      <td>0.096740</td>\n",
       "      <td>0.065429</td>\n",
       "      <td>0.0001</td>\n",
       "      <td>0.045524</td>\n",
       "      <td>0.098869</td>\n",
       "      <td>0.135015</td>\n",
       "      <td>0.313676</td>\n",
       "    </tr>\n",
       "    <tr>\n",
       "      <th>Norm_AI</th>\n",
       "      <td>105036.0</td>\n",
       "      <td>0.488128</td>\n",
       "      <td>0.135664</td>\n",
       "      <td>0.0000</td>\n",
       "      <td>0.382840</td>\n",
       "      <td>0.477242</td>\n",
       "      <td>0.591942</td>\n",
       "      <td>1.000000</td>\n",
       "    </tr>\n",
       "    <tr>\n",
       "      <th>Norm_Porosity</th>\n",
       "      <td>105036.0</td>\n",
       "      <td>0.308188</td>\n",
       "      <td>0.208656</td>\n",
       "      <td>0.0000</td>\n",
       "      <td>0.144857</td>\n",
       "      <td>0.314976</td>\n",
       "      <td>0.430248</td>\n",
       "      <td>1.000000</td>\n",
       "    </tr>\n",
       "    <tr>\n",
       "      <th>Trans_PHIE</th>\n",
       "      <td>105036.0</td>\n",
       "      <td>0.308188</td>\n",
       "      <td>0.208656</td>\n",
       "      <td>0.0000</td>\n",
       "      <td>0.144857</td>\n",
       "      <td>0.314976</td>\n",
       "      <td>0.430248</td>\n",
       "      <td>1.000000</td>\n",
       "    </tr>\n",
       "    <tr>\n",
       "      <th>Trans_AI</th>\n",
       "      <td>105036.0</td>\n",
       "      <td>0.796317</td>\n",
       "      <td>0.255226</td>\n",
       "      <td>0.0060</td>\n",
       "      <td>0.596973</td>\n",
       "      <td>0.798612</td>\n",
       "      <td>0.975109</td>\n",
       "      <td>1.796024</td>\n",
       "    </tr>\n",
       "  </tbody>\n",
       "</table>\n",
       "</div>"
      ],
      "text/plain": [
       "                  count           mean           std          min  \\\n",
       "AI             105036.0  213112.519775  20315.719270  140015.2969   \n",
       "Porosity       105036.0       0.096740      0.065429       0.0001   \n",
       "Norm_AI        105036.0       0.488128      0.135664       0.0000   \n",
       "Norm_Porosity  105036.0       0.308188      0.208656       0.0000   \n",
       "Trans_PHIE     105036.0       0.308188      0.208656       0.0000   \n",
       "Trans_AI       105036.0       0.796317      0.255226       0.0060   \n",
       "\n",
       "                         25%            50%            75%            max  \n",
       "AI             197345.609400  211482.328100  228658.625000  289765.343800  \n",
       "Porosity            0.045524       0.098869       0.135015       0.313676  \n",
       "Norm_AI             0.382840       0.477242       0.591942       1.000000  \n",
       "Norm_Porosity       0.144857       0.314976       0.430248       1.000000  \n",
       "Trans_PHIE          0.144857       0.314976       0.430248       1.000000  \n",
       "Trans_AI            0.596973       0.798612       0.975109       1.796024  "
      ]
     },
     "execution_count": 131,
     "metadata": {},
     "output_type": "execute_result"
    }
   ],
   "source": [
    "df.describe().transpose()"
   ]
  },
  {
   "cell_type": "markdown",
   "metadata": {},
   "source": [
    "### PLOT"
   ]
  },
  {
   "cell_type": "code",
   "execution_count": 132,
   "metadata": {},
   "outputs": [
    {
     "data": {
      "image/png": "[encoded data removed]",
      "text/plain": [
       "<Figure size 432x288 with 2 Axes>"
      ]
     },
     "metadata": {
      "needs_background": "light"
     },
     "output_type": "display_data"
    }
   ],
   "source": [
    "plt.subplot(121)\n",
    "plt.scatter(df['Norm_Porosity'], df['Norm_AI'], c=\"black\", alpha = 0.4, linewidths=1.0, verts=None, edgecolors=\"black\")\n",
    "plt.title('Normalized Acoustic Impedence vs. Porosity'); plt.xlabel('Porosity (normalized)'); plt.ylabel('Acoustic impedance (normalized)')\n",
    "plt.xlim(0.0,1.0)\n",
    "plt.ylim(0.0,1.0)\n",
    "\n",
    "plt.subplot(122)\n",
    "plt.scatter(df['Trans_PHIE'], df['Trans_AI'], c=\"black\", alpha = 0.4, linewidths=1.0, verts=None, edgecolors=\"black\")\n",
    "plt.title('Transformed Acoustic Impedence vs. Porosity'); plt.xlabel('Transform 1'); plt.ylabel('Transform 2')\n",
    "plt.xlim(0.0,1.0)\n",
    "plt.ylim(0.0,2.0)\n",
    "plt.subplots_adjust(left=0.0, bottom=0.0, right=2.0, top=1.0, wspace=0.2, hspace=0.2)"
   ]
  }
 ],
 "metadata": {
  "kernelspec": {
   "display_name": "Python 3",
   "language": "python",
   "name": "python3"
  },
  "language_info": {
   "codemirror_mode": {
    "name": "ipython",
    "version": 3
   },
   "file_extension": ".py",
   "mimetype": "text/x-python",
   "name": "python",
   "nbconvert_exporter": "python",
   "pygments_lexer": "ipython3",
   "version": "3.7.3"
  }
 },
 "nbformat": 4,
 "nbformat_minor": 2
}
